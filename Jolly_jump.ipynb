{
  "nbformat": 4,
  "nbformat_minor": 0,
  "metadata": {
    "colab": {
      "provenance": [],
      "authorship_tag": "ABX9TyPiDtOzq4d3vs7FyTtSjg20",
      "include_colab_link": true
    },
    "kernelspec": {
      "name": "python3",
      "display_name": "Python 3"
    },
    "language_info": {
      "name": "python"
    }
  },
  "cells": [
    {
      "cell_type": "markdown",
      "metadata": {
        "id": "view-in-github",
        "colab_type": "text"
      },
      "source": [
        "<a href=\"https://colab.research.google.com/github/penguinqiqi/CPE/blob/main/Jolly_jump.ipynb\" target=\"_parent\"><img src=\"https://colab.research.google.com/assets/colab-badge.svg\" alt=\"Open In Colab\"/></a>"
      ]
    },
    {
      "cell_type": "markdown",
      "source": [],
      "metadata": {
        "id": "uACVrPvYw-nn"
      }
    },
    {
      "cell_type": "code",
      "execution_count": null,
      "metadata": {
        "id": "oOP38Z4eukNL",
        "outputId": "29a4c188-3695-489d-bdba-f4b435e7e9a4",
        "colab": {
          "base_uri": "https://localhost:8080/"
        }
      },
      "outputs": [
        {
          "output_type": "stream",
          "name": "stdout",
          "text": [
            "3 4 5 6\n",
            "Not jolly\n",
            "2 3 7\n",
            "Not jolly\n",
            "2 2 2\n",
            "Not jolly\n",
            "2 2 1\n",
            "Jolly\n"
          ]
        }
      ],
      "source": [
        "#看好題目再寫(Not jolly , Not Jolly)\n",
        "while True:\n",
        "    try:\n",
        "        number=list(map(int,input().split()))#變整數 split(空白拆列表)\n",
        "        e=number[0]#幾位數\n",
        "        diffs=set()#set裡面不會有重複的\n",
        "\n",
        "        for i in range(1,e):\n",
        "            diff=abs(number[i]-number[i+1])#abs絕對值 差值\n",
        "            diffs.add(diff)\n",
        "\n",
        "        if diffs==set(range(1,e)):#1~e-1\n",
        "            print(\"Jolly\")\n",
        "        else:\n",
        "            print(\"Not jolly\")\n",
        "    except EOFError:\n",
        "        break"
      ]
    }
  ]
}